{
  "nbformat": 4,
  "nbformat_minor": 0,
  "metadata": {
    "celltoolbar": "Create Assignment",
    "kernelspec": {
      "display_name": "Python 3",
      "language": "python",
      "name": "python3"
    },
    "language_info": {
      "codemirror_mode": {
        "name": "ipython",
        "version": 3
      },
      "file_extension": ".py",
      "mimetype": "text/x-python",
      "name": "python",
      "nbconvert_exporter": "python",
      "pygments_lexer": "ipython3",
      "version": "3.8.3"
    },
    "colab": {
      "name": "Trabalho Final Marcos Liborio.ipynb",
      "provenance": [],
      "collapsed_sections": [],
      "include_colab_link": true
    }
  },
  "cells": [
    {
      "cell_type": "markdown",
      "metadata": {
        "id": "view-in-github",
        "colab_type": "text"
      },
      "source": [
        "<a href=\"https://colab.research.google.com/github/mliborio2020/curso_ciencia_dados2021/blob/master/Trabalho_Final_Marcos_Liborio.ipynb\" target=\"_parent\"><img src=\"https://colab.research.google.com/assets/colab-badge.svg\" alt=\"Open In Colab\"/></a>"
      ]
    },
    {
      "cell_type": "markdown",
      "metadata": {
        "id": "02c30HU3skM4"
      },
      "source": [
        "## Trabalho Final - Ciência de Dados - Enap / 2021\n",
        "#### Marcos Libório Fernandes Costa"
      ]
    },
    {
      "cell_type": "markdown",
      "metadata": {
        "id": "zQjw_lhbv0Uz"
      },
      "source": [
        "##### O objetivo deste trabalho foi analisar se a capacidade tributária dos **Fundos de Investimento Imobiliário** está coerente com reportagem recente acerca de suposta sonegação no setor: **Receita identifica irregularidades em fundos imobiliários que causaram prejuízo de até R$ 550 milhões** (https://g1.globo.com/sp/sao-paulo/noticia/2020/10/30/receita-mira-irregularidades-de-ate-r-550-milhoes-em-fundos-imobiliarios.ghtml). A consulta foi feita em bases abertas da CVM, para identificar o possível *gap tributário*.</p>\n",
        "##### Os Fundos imobiliários (**FII**) são uma classe de fundos estruturados que tem por objetivo investir em empreendimentos imobiliários, que podem ser tanto imóveis prontos para locação quanto certificados de recebíveis de dívidas (CRI). São organizados em forma de condomínio e normalmente ter suas cotas negociadas em mercado de bolsa ou balcão. No caso, ambas atividades estão centralizadas na **B3**.\n",
        "##### Para incentivar sua utilização pelo grande público, os FIIs foram agraciados com diversos benefícios tributários, sendo que o principal é a isenção de imposto de renda sobre os rendimentos distribuidos aos cotistas, atendidas as condições legais.\n",
        "##### Como se viu na reportagem, estima-se que haja um gap anual de 550 milhões atualmente, ou seja, os FIIs estariam recolhendo um montante muito inferior ao potencial. É isso que nos propomos analisar aqui. Como os dados de arrecadação por FII (ou mesmo agregados por Administradora) são protegidos pelo sigilo fiscal, somente se avaliará se o montante total está coerente com essa estimativa.\n",
        "##### A data-base dos valores levantados é dezembro de 2020."
      ]
    },
    {
      "cell_type": "markdown",
      "metadata": {
        "id": "KIEavhWQskNg"
      },
      "source": [
        "### Apresentação do Dataset"
      ]
    },
    {
      "cell_type": "markdown",
      "metadata": {
        "id": "c6AwFZEkfofT"
      },
      "source": [
        "##### O Dataset é o resultado da agregação de três bases de dados distintas:\n",
        "\n",
        "\n",
        "*   O cadastro de Fundos estruturados da CVM;\n",
        "*   A relação de Administradoras desses fundos;\n",
        "*   O valor do PL (Patrimônio Líquido) dos fundos;\n",
        "\n",
        "##### O Dataset resultante (**df**) foi então submetido a um tratamento e filtragem pelos seguintes campos:\n",
        "\n",
        "*   **TP_FUNDO** = \"F.I.I.\": com isso, obteve-se apenas a lista de fundos estruturados do tipo FII (Fundo imobiliário);\n",
        "*   **SIT** = \"EM FUNCIONAMENTO NORMAL\": esse filtro serviu para excluir as ocorrências de fundos já encerrados e pré-operacionais;\n",
        "\n",
        "##### No mesmo processo foram selecionadas as colunas que interessam ao estudo:\n",
        "\n",
        "*   **CNPJ_FUNDO**: contendo o CNPJ de cada FII;\n",
        "*   **DENOM_SOCIAL**: contendo o Nome de cada FII;\n",
        "*   **CNPJ_ADMIN**: contendo o CNPJ da Administradora correspondente;\n",
        "*   **ADMIN**: contendo o Nome da Administradora;\n",
        "*   **VL_PATRIM_LIQ**: contendo os valores do Patrimônio Líquido de cada FII;\n",
        "\n",
        "##### Foi então calculada a coluna a seguir, a partir da coluna **VL_PATRIM_LIQ**:\n",
        "\n",
        "*   **Trib_Potencial**: resultado da multiplicação do PL de cada FII por 0.5 (que é o percentual estimado de sonegação, ou seja, de 50%), depois por 0.066 (que é o retorno médio anual do IFIX para o ano de 2020, o que nos dá o resultado esperado por PL), depois por 0.95 (que é o payout, ou seja, o percentual que deve ser distribuído do resultado. Legalmente deve ser distribuído pelo menos 95% do lucro semestralmente), depois por 0.2 (que é a alíquota do imposto de renda a ser retido na distribuição dos resultados);\n",
        "\n",
        "##### Obteve-se então o Dataset **df_FII**, que foi sorteado pela coluna de tributo potencial. Esse Dataset possui **562** registros.\n",
        "##### Como o objetivo era exibir os dados de forma agregada, houve então o agrupamento por **Administradora**, resultando no Dataset **df_ADM_total**, com **53** registros, sorteados pelo valor do tributo.\n",
        "##### A partir desse Dataset, foram elaborados os gráficos.\n",
        "\n",
        "\n",
        "\n",
        "\n",
        "\n"
      ]
    },
    {
      "cell_type": "markdown",
      "metadata": {
        "id": "FXZj51ECskN-"
      },
      "source": [
        "#### Link para Download do Dataset"
      ]
    },
    {
      "cell_type": "code",
      "metadata": {
        "colab": {
          "base_uri": "https://localhost:8080/"
        },
        "id": "0BWy-YD8oLaA",
        "outputId": "51154d0e-74d4-471b-a130-1d5f207696ea"
      },
      "source": [
        "from google.colab import drive\n",
        "drive.mount('/content/drive')"
      ],
      "execution_count": 2,
      "outputs": [
        {
          "output_type": "stream",
          "text": [
            "Mounted at /content/drive\n"
          ],
          "name": "stdout"
        }
      ]
    },
    {
      "cell_type": "code",
      "metadata": {
        "id": "zAGm8ESwskOE",
        "colab": {
          "base_uri": "https://localhost:8080/"
        },
        "outputId": "f7114197-9161-406e-a88b-d50082808b56"
      },
      "source": [
        "import pandas as pd\n",
        "import numpy as np\n",
        "# Dados CVM: http://dados.cvm.gov.br/dados/FIE/CAD/DADOS/cad_fie.zip\n",
        "# Foram importados dois arquivos csv desse zip para o Colab: cad_fie e cad_fie_admin\n",
        "path_cvm = '/content/drive/MyDrive/CienciadeDados/cad_fie.csv'\n",
        "path_adm = '/content/drive/MyDrive/CienciadeDados/cad_fie_admin.csv'\n",
        "# O terceiro arquivo traz o Patrimonio Liquido dos Fundos (data base dez/2020). É buscado diretamente do site, pois já está em CSV\n",
        "path_PL = 'http://dados.cvm.gov.br/dados/FIE/MEDIDAS/DADOS/medidas_mes_fie_202012.csv'\n",
        "# Lidos os três arquivos e salvos nas respectivas variáveis\n",
        "cvm = pd.read_csv(path_cvm, sep=';', encoding='latin-1')\n",
        "adm = pd.read_csv(path_adm, sep=';', encoding='latin-1')\n",
        "PL = pd.read_csv(path_PL, sep=';', encoding='latin-1')\n",
        "# Gerados os três Data Frames a partir dos arquivos lidos anteriormente\n",
        "cvm_frame = pd.DataFrame(cvm)\n",
        "adm_frame = pd.DataFrame(adm)\n",
        "PL_frame = pd.DataFrame(PL)\n",
        "# Feito o merge dos três arquivos, dois a dois. A chave é o CNPJ_FUNDO, presente nos três Data Frames.\n",
        "df_partial = pd.merge(cvm_frame, PL_frame)\n",
        "df = pd.merge(df_partial, adm_frame)\n",
        "# df = pd.DataFrame.insert(loc=1, column='rate', value=6, allow_duplicates=True)\n",
        "#Corrige formatação do VL_PATRIM_LIQ de notação científica para 2 casas decimais\n",
        "pd.options.display.float_format = '{:.2f}'.format\n",
        "df['Trib_Potencial'] = df['VL_PATRIM_LIQ'] * 0.5 * 0.066 * 0.95 * 0.2\n",
        "df.info()"
      ],
      "execution_count": 49,
      "outputs": [
        {
          "output_type": "stream",
          "text": [
            "<class 'pandas.core.frame.DataFrame'>\n",
            "Int64Index: 2914 entries, 0 to 2913\n",
            "Data columns (total 17 columns):\n",
            " #   Column          Non-Null Count  Dtype  \n",
            "---  ------          --------------  -----  \n",
            " 0   TP_FUNDO        2914 non-null   object \n",
            " 1   CNPJ_FUNDO      2914 non-null   object \n",
            " 2   DENOM_SOCIAL    2914 non-null   object \n",
            " 3   DT_REG          2914 non-null   object \n",
            " 4   DT_CONST        2817 non-null   object \n",
            " 5   DT_CANCEL       10 non-null     object \n",
            " 6   SIT             2914 non-null   object \n",
            " 7   DT_INI_SIT      2914 non-null   object \n",
            " 8   DT_INI_EXERC    2902 non-null   object \n",
            " 9   DT_FIM_EXERC    2902 non-null   object \n",
            " 10  ENTID_INVEST    1119 non-null   object \n",
            " 11  DT_COMPTC       2914 non-null   object \n",
            " 12  VL_PATRIM_LIQ   2914 non-null   float64\n",
            " 13  NR_COTST        1129 non-null   float64\n",
            " 14  CNPJ_ADMIN      2914 non-null   object \n",
            " 15  ADMIN           2914 non-null   object \n",
            " 16  Trib_Potencial  2914 non-null   float64\n",
            "dtypes: float64(3), object(14)\n",
            "memory usage: 409.8+ KB\n"
          ],
          "name": "stdout"
        }
      ]
    },
    {
      "cell_type": "markdown",
      "metadata": {
        "id": "bQ6lsXCqskOM"
      },
      "source": [
        "### Motivação Pessoal"
      ]
    },
    {
      "cell_type": "markdown",
      "metadata": {
        "id": "OeHy1l2ob-D7"
      },
      "source": [
        "Eu trabalho na Receita Federal em um projeto de verificação da conformidade tributária dos FII.             A intenção é desenvolver um modelo que possa indicar o gap tributário e as possíveis áreas de evasão / elisão."
      ]
    },
    {
      "cell_type": "code",
      "metadata": {
        "nbgrader": {
          "grade": true,
          "grade_id": "cell-78e97c9cbf087543",
          "locked": false,
          "points": 1,
          "schema_version": 3,
          "solution": true,
          "task": false
        },
        "id": "Rwr8-_IpskOU",
        "colab": {
          "base_uri": "https://localhost:8080/",
          "height": 424
        },
        "outputId": "3178182c-7b90-4cef-fdf0-602dfc117a46"
      },
      "source": [
        "quartis = df.quantile([.25, .5, .75, .9])\n",
        "# Seleciona apenas os fundos do tipo FII\n",
        "FII_only = df['TP_FUNDO']=='F.I.I.'\n",
        "# Seleciona apenas os fundos ativos\n",
        "Active_only = df['SIT']=='EM FUNCIONAMENTO NORMAL'\n",
        "# Aplica os filtros \n",
        "df_FII = df.loc[FII_only & Active_only]\n",
        "# Define as colunas a serem exibidas\n",
        "df_FII=df_FII[['CNPJ_FUNDO', 'DENOM_SOCIAL', 'CNPJ_ADMIN','ADMIN', 'VL_PATRIM_LIQ', 'Trib_Potencial']]\n",
        "# df_FII=df_FII[['CNPJ_FUNDO', 'DENOM_SOCIAL', 'DT_CONST', 'CNPJ_ADMIN','ADMIN', 'VL_PATRIM_LIQ']]\n",
        "quartis_FII = df_FII.quantile([.25, .5, .75, .9])\n",
        "# Permite o filtro por Administradora. A relação entre Administradora e FII é de 1 para N.\n",
        "df_ADM = df_FII['ADMIN']=='BANCO DAYCOVAL S.A.'\n",
        "df_por_ADM = df_FII.loc[df_ADM]\n",
        "# df_por_ADM\n",
        "df_FII.sort_values(by='VL_PATRIM_LIQ',\n",
        "                   axis=0,\n",
        "                   ascending=False,\n",
        "                   inplace=False,\n",
        "                   kind='quicksort',\n",
        "                   na_position='last')\n",
        "# df_FII\n"
      ],
      "execution_count": 64,
      "outputs": [
        {
          "output_type": "execute_result",
          "data": {
            "text/html": [
              "<div>\n",
              "<style scoped>\n",
              "    .dataframe tbody tr th:only-of-type {\n",
              "        vertical-align: middle;\n",
              "    }\n",
              "\n",
              "    .dataframe tbody tr th {\n",
              "        vertical-align: top;\n",
              "    }\n",
              "\n",
              "    .dataframe thead th {\n",
              "        text-align: right;\n",
              "    }\n",
              "</style>\n",
              "<table border=\"1\" class=\"dataframe\">\n",
              "  <thead>\n",
              "    <tr style=\"text-align: right;\">\n",
              "      <th></th>\n",
              "      <th>CNPJ_FUNDO</th>\n",
              "      <th>DENOM_SOCIAL</th>\n",
              "      <th>CNPJ_ADMIN</th>\n",
              "      <th>ADMIN</th>\n",
              "      <th>VL_PATRIM_LIQ</th>\n",
              "      <th>Trib_Potencial</th>\n",
              "    </tr>\n",
              "  </thead>\n",
              "  <tbody>\n",
              "    <tr>\n",
              "      <th>364</th>\n",
              "      <td>24.960.430/0001-13</td>\n",
              "      <td>KINEA ÍNDICES DE PREÇOS FUNDO DE INVESTIMENTO ...</td>\n",
              "      <td>62.418.140/0001-31</td>\n",
              "      <td>INTRAG DTVM LTDA.</td>\n",
              "      <td>4376378861.38</td>\n",
              "      <td>27439895.46</td>\n",
              "    </tr>\n",
              "    <tr>\n",
              "      <th>366</th>\n",
              "      <td>16.706.958/0001-32</td>\n",
              "      <td>KINEA RENDIMENTOS IMOBILIARIOS FUNDO DE INVEST...</td>\n",
              "      <td>62.418.140/0001-31</td>\n",
              "      <td>INTRAG DTVM LTDA.</td>\n",
              "      <td>3837410176.85</td>\n",
              "      <td>24060561.81</td>\n",
              "    </tr>\n",
              "    <tr>\n",
              "      <th>365</th>\n",
              "      <td>12.005.956/0001-65</td>\n",
              "      <td>KINEA RENDA IMOBILIÁRIA FUNDO DE INVESTIMENTO ...</td>\n",
              "      <td>62.418.140/0001-31</td>\n",
              "      <td>INTRAG DTVM LTDA.</td>\n",
              "      <td>3748109137.86</td>\n",
              "      <td>23500644.29</td>\n",
              "    </tr>\n",
              "    <tr>\n",
              "      <th>439</th>\n",
              "      <td>31.962.875/0001-06</td>\n",
              "      <td>PROLOGIS BRAZIL LOGISTICS VENTURE FUNDO DE INV...</td>\n",
              "      <td>13.486.793/0001-42</td>\n",
              "      <td>BRL TRUST DISTRIBUIDORA DE TITULOS E VALORES M...</td>\n",
              "      <td>3386081058.44</td>\n",
              "      <td>21230728.24</td>\n",
              "    </tr>\n",
              "    <tr>\n",
              "      <th>1</th>\n",
              "      <td>19.419.994/0001-03</td>\n",
              "      <td>2509 FUNDO DE INVESTIMENTO IMOBILIÁRIO - FII</td>\n",
              "      <td>36.113.876/0001-91</td>\n",
              "      <td>OLIVEIRA TRUST DTVM S.A.</td>\n",
              "      <td>3019562828.63</td>\n",
              "      <td>18932658.94</td>\n",
              "    </tr>\n",
              "    <tr>\n",
              "      <th>...</th>\n",
              "      <td>...</td>\n",
              "      <td>...</td>\n",
              "      <td>...</td>\n",
              "      <td>...</td>\n",
              "      <td>...</td>\n",
              "      <td>...</td>\n",
              "    </tr>\n",
              "    <tr>\n",
              "      <th>558</th>\n",
              "      <td>18.265.829/0001-81</td>\n",
              "      <td>YAGO - FUNDO DE INVESTIMENTO IMOBILIÁRIO - FII</td>\n",
              "      <td>13.486.793/0001-42</td>\n",
              "      <td>BRL TRUST DISTRIBUIDORA DE TITULOS E VALORES M...</td>\n",
              "      <td>-1508684.92</td>\n",
              "      <td>-9459.45</td>\n",
              "    </tr>\n",
              "    <tr>\n",
              "      <th>474</th>\n",
              "      <td>13.012.312/0001-67</td>\n",
              "      <td>SALUS FUNDO DE INVESTIMENTO IMOBILIÁRIO - FII</td>\n",
              "      <td>15.489.568/0001-95</td>\n",
              "      <td>INTRADER DTVM LTDA</td>\n",
              "      <td>-3663199.00</td>\n",
              "      <td>-22968.26</td>\n",
              "    </tr>\n",
              "    <tr>\n",
              "      <th>252</th>\n",
              "      <td>00.613.094/0001-74</td>\n",
              "      <td>FUNDO DE INVESTIMENTO IMOBILIÁRIO PANAMBY</td>\n",
              "      <td>33.923.111/0001-29</td>\n",
              "      <td>BRKB DISTRIBUIDORA DE TITULOS E VALORES MOBILI...</td>\n",
              "      <td>-4523815.85</td>\n",
              "      <td>-28364.33</td>\n",
              "    </tr>\n",
              "    <tr>\n",
              "      <th>440</th>\n",
              "      <td>13.125.823/0001-95</td>\n",
              "      <td>PSG - FUNDO DE INVESTIMENTO IMOBILIÁRIO</td>\n",
              "      <td>13.486.793/0001-42</td>\n",
              "      <td>BRL TRUST DISTRIBUIDORA DE TITULOS E VALORES M...</td>\n",
              "      <td>-4927911.32</td>\n",
              "      <td>-30898.00</td>\n",
              "    </tr>\n",
              "    <tr>\n",
              "      <th>91</th>\n",
              "      <td>35.880.201/0001-05</td>\n",
              "      <td>DARP JIVE FUNDO DE INVESTIMENTO IMOBILIÁRIO</td>\n",
              "      <td>05.389.174/0001-01</td>\n",
              "      <td>MODAL  D.T.V.M. LTDA</td>\n",
              "      <td>-17254809.17</td>\n",
              "      <td>-108187.65</td>\n",
              "    </tr>\n",
              "  </tbody>\n",
              "</table>\n",
              "<p>561 rows × 6 columns</p>\n",
              "</div>"
            ],
            "text/plain": [
              "             CNPJ_FUNDO  ... Trib_Potencial\n",
              "364  24.960.430/0001-13  ...    27439895.46\n",
              "366  16.706.958/0001-32  ...    24060561.81\n",
              "365  12.005.956/0001-65  ...    23500644.29\n",
              "439  31.962.875/0001-06  ...    21230728.24\n",
              "1    19.419.994/0001-03  ...    18932658.94\n",
              "..                  ...  ...            ...\n",
              "558  18.265.829/0001-81  ...       -9459.45\n",
              "474  13.012.312/0001-67  ...      -22968.26\n",
              "252  00.613.094/0001-74  ...      -28364.33\n",
              "440  13.125.823/0001-95  ...      -30898.00\n",
              "91   35.880.201/0001-05  ...     -108187.65\n",
              "\n",
              "[561 rows x 6 columns]"
            ]
          },
          "metadata": {
            "tags": []
          },
          "execution_count": 64
        }
      ]
    },
    {
      "cell_type": "code",
      "metadata": {
        "colab": {
          "base_uri": "https://localhost:8080/",
          "height": 1000
        },
        "id": "KQQ4yhoOD0I5",
        "outputId": "49e0f46c-a2ca-477d-a8c3-3064a32703a4"
      },
      "source": [
        "# Agrupando os dados por Administradora\n",
        "grouped = df_FII.groupby(['ADMIN']).sum().reset_index()\n",
        "df_ADM_total = pd.DataFrame(grouped)\n",
        "df_ADM_total"
      ],
      "execution_count": 66,
      "outputs": [
        {
          "output_type": "execute_result",
          "data": {
            "text/html": [
              "<div>\n",
              "<style scoped>\n",
              "    .dataframe tbody tr th:only-of-type {\n",
              "        vertical-align: middle;\n",
              "    }\n",
              "\n",
              "    .dataframe tbody tr th {\n",
              "        vertical-align: top;\n",
              "    }\n",
              "\n",
              "    .dataframe thead th {\n",
              "        text-align: right;\n",
              "    }\n",
              "</style>\n",
              "<table border=\"1\" class=\"dataframe\">\n",
              "  <thead>\n",
              "    <tr style=\"text-align: right;\">\n",
              "      <th></th>\n",
              "      <th>ADMIN</th>\n",
              "      <th>VL_PATRIM_LIQ</th>\n",
              "      <th>Trib_Potencial</th>\n",
              "    </tr>\n",
              "  </thead>\n",
              "  <tbody>\n",
              "    <tr>\n",
              "      <th>0</th>\n",
              "      <td>BANCO BNP PARIBAS BRASIL S/A</td>\n",
              "      <td>148808937.73</td>\n",
              "      <td>933032.04</td>\n",
              "    </tr>\n",
              "    <tr>\n",
              "      <th>1</th>\n",
              "      <td>BANCO BRADESCO S.A.</td>\n",
              "      <td>437052939.14</td>\n",
              "      <td>2740321.93</td>\n",
              "    </tr>\n",
              "    <tr>\n",
              "      <th>2</th>\n",
              "      <td>BANCO DAYCOVAL S.A.</td>\n",
              "      <td>63460973.77</td>\n",
              "      <td>397900.31</td>\n",
              "    </tr>\n",
              "    <tr>\n",
              "      <th>3</th>\n",
              "      <td>BANCO FATOR S/A</td>\n",
              "      <td>1035812344.35</td>\n",
              "      <td>6494543.40</td>\n",
              "    </tr>\n",
              "    <tr>\n",
              "      <th>4</th>\n",
              "      <td>BANCO FINAXIS S.A.</td>\n",
              "      <td>25319527.94</td>\n",
              "      <td>158753.44</td>\n",
              "    </tr>\n",
              "    <tr>\n",
              "      <th>5</th>\n",
              "      <td>BANCO J. SAFRA S.A.</td>\n",
              "      <td>2363325622.47</td>\n",
              "      <td>14818051.65</td>\n",
              "    </tr>\n",
              "    <tr>\n",
              "      <th>6</th>\n",
              "      <td>BANCO MODAL S.A.</td>\n",
              "      <td>144332591.51</td>\n",
              "      <td>904965.35</td>\n",
              "    </tr>\n",
              "    <tr>\n",
              "      <th>7</th>\n",
              "      <td>BANCO OURINVEST S.A.</td>\n",
              "      <td>3524629837.07</td>\n",
              "      <td>22099429.08</td>\n",
              "    </tr>\n",
              "    <tr>\n",
              "      <th>8</th>\n",
              "      <td>BANCOOB DISTRIBUIDORA DE TÍTULOS E VALORES MOB...</td>\n",
              "      <td>32548423.42</td>\n",
              "      <td>204078.61</td>\n",
              "    </tr>\n",
              "    <tr>\n",
              "      <th>9</th>\n",
              "      <td>BB GESTAO DE RECURSOS DTVM S.A</td>\n",
              "      <td>455520770.90</td>\n",
              "      <td>2856115.23</td>\n",
              "    </tr>\n",
              "    <tr>\n",
              "      <th>10</th>\n",
              "      <td>BCV - BANCO DE CRÉDITO E VAREJO S.A.</td>\n",
              "      <td>1187801.14</td>\n",
              "      <td>7447.51</td>\n",
              "    </tr>\n",
              "    <tr>\n",
              "      <th>11</th>\n",
              "      <td>BEM - DISTRIBUIDORA DE TITULOS E VALORES MOBIL...</td>\n",
              "      <td>1046477485.62</td>\n",
              "      <td>6561413.83</td>\n",
              "    </tr>\n",
              "    <tr>\n",
              "      <th>12</th>\n",
              "      <td>BNY MELLON SERVICOS FINANCEIROS DTVM S.A.</td>\n",
              "      <td>2492308411.50</td>\n",
              "      <td>15626773.74</td>\n",
              "    </tr>\n",
              "    <tr>\n",
              "      <th>13</th>\n",
              "      <td>BR-CAPITAL DTVM S.A.</td>\n",
              "      <td>1312904644.13</td>\n",
              "      <td>8231912.12</td>\n",
              "    </tr>\n",
              "    <tr>\n",
              "      <th>14</th>\n",
              "      <td>BRB DTVM SA</td>\n",
              "      <td>78775213.94</td>\n",
              "      <td>493920.59</td>\n",
              "    </tr>\n",
              "    <tr>\n",
              "      <th>15</th>\n",
              "      <td>BRKB DISTRIBUIDORA DE TITULOS E VALORES MOBILI...</td>\n",
              "      <td>-4523815.85</td>\n",
              "      <td>-28364.33</td>\n",
              "    </tr>\n",
              "    <tr>\n",
              "      <th>16</th>\n",
              "      <td>BRL TRUST DISTRIBUIDORA DE TITULOS E VALORES M...</td>\n",
              "      <td>23381403959.95</td>\n",
              "      <td>146601402.83</td>\n",
              "    </tr>\n",
              "    <tr>\n",
              "      <th>17</th>\n",
              "      <td>BTG PACTUAL SERVIÇOS FINANCEIROS S/A DTVM</td>\n",
              "      <td>39920848671.53</td>\n",
              "      <td>250303721.17</td>\n",
              "    </tr>\n",
              "    <tr>\n",
              "      <th>18</th>\n",
              "      <td>CAIXA ECONOMICA FEDERAL</td>\n",
              "      <td>2018575081.65</td>\n",
              "      <td>12656465.76</td>\n",
              "    </tr>\n",
              "    <tr>\n",
              "      <th>19</th>\n",
              "      <td>CM CAPITAL MARKETS DTVM LTDA</td>\n",
              "      <td>1067550821.77</td>\n",
              "      <td>6693543.65</td>\n",
              "    </tr>\n",
              "    <tr>\n",
              "      <th>20</th>\n",
              "      <td>COINVALORES CCVM LTDA</td>\n",
              "      <td>1485618483.79</td>\n",
              "      <td>9314827.89</td>\n",
              "    </tr>\n",
              "    <tr>\n",
              "      <th>21</th>\n",
              "      <td>CORRETORA GERAL DE VALORES E CAMBIO LTDA</td>\n",
              "      <td>625474620.69</td>\n",
              "      <td>3921725.87</td>\n",
              "    </tr>\n",
              "    <tr>\n",
              "      <th>22</th>\n",
              "      <td>CREDIT SUISSE HEDGING-GRIFFO CORRETORA DE VALO...</td>\n",
              "      <td>9061236150.73</td>\n",
              "      <td>56813950.67</td>\n",
              "    </tr>\n",
              "    <tr>\n",
              "      <th>23</th>\n",
              "      <td>ELITE CCVM LTDA</td>\n",
              "      <td>152977199.89</td>\n",
              "      <td>959167.04</td>\n",
              "    </tr>\n",
              "    <tr>\n",
              "      <th>24</th>\n",
              "      <td>FINAXIS CORRETORA DE TÍTULOS E VALORES MOBILIÁ...</td>\n",
              "      <td>345319939.13</td>\n",
              "      <td>2165156.02</td>\n",
              "    </tr>\n",
              "    <tr>\n",
              "      <th>25</th>\n",
              "      <td>FRAM CAPITAL DISTRIBUIDORA DE TITULOS E VALORE...</td>\n",
              "      <td>1367671829.94</td>\n",
              "      <td>8575302.37</td>\n",
              "    </tr>\n",
              "    <tr>\n",
              "      <th>26</th>\n",
              "      <td>GENIAL INVESTIMENTOS CORRETORA DE VALORES MOBI...</td>\n",
              "      <td>3369909877.09</td>\n",
              "      <td>21129334.93</td>\n",
              "    </tr>\n",
              "    <tr>\n",
              "      <th>27</th>\n",
              "      <td>HEDGE INVESTMENTS DISTRIBUIDORA DE TÍTULOS E V...</td>\n",
              "      <td>7144954080.70</td>\n",
              "      <td>44798862.09</td>\n",
              "    </tr>\n",
              "    <tr>\n",
              "      <th>28</th>\n",
              "      <td>INTER DISTRIBUIDORA DE TÍTULOS E VALORES MOBIL...</td>\n",
              "      <td>1160785550.42</td>\n",
              "      <td>7278125.40</td>\n",
              "    </tr>\n",
              "    <tr>\n",
              "      <th>29</th>\n",
              "      <td>INTRADER DTVM LTDA</td>\n",
              "      <td>82021040.98</td>\n",
              "      <td>514271.93</td>\n",
              "    </tr>\n",
              "    <tr>\n",
              "      <th>30</th>\n",
              "      <td>INTRAG DTVM LTDA.</td>\n",
              "      <td>14806670909.62</td>\n",
              "      <td>92837826.60</td>\n",
              "    </tr>\n",
              "    <tr>\n",
              "      <th>31</th>\n",
              "      <td>LIMINE TRUST DISTRIBUIDORA DE TITULOS E VALORE...</td>\n",
              "      <td>54216525.08</td>\n",
              "      <td>339937.61</td>\n",
              "    </tr>\n",
              "    <tr>\n",
              "      <th>32</th>\n",
              "      <td>MERCANTIL DO BRASIL CORRETORA S/A CTVM</td>\n",
              "      <td>91075037.93</td>\n",
              "      <td>571040.49</td>\n",
              "    </tr>\n",
              "    <tr>\n",
              "      <th>33</th>\n",
              "      <td>MODAL  D.T.V.M. LTDA</td>\n",
              "      <td>3088875853.94</td>\n",
              "      <td>19367251.60</td>\n",
              "    </tr>\n",
              "    <tr>\n",
              "      <th>34</th>\n",
              "      <td>MOMENTO DTVM LTDA</td>\n",
              "      <td>143378454.01</td>\n",
              "      <td>898982.91</td>\n",
              "    </tr>\n",
              "    <tr>\n",
              "      <th>35</th>\n",
              "      <td>MONETAR DISTRIBUIDORA DE TITULOS E VALORES MOB...</td>\n",
              "      <td>109761102.96</td>\n",
              "      <td>688202.12</td>\n",
              "    </tr>\n",
              "    <tr>\n",
              "      <th>36</th>\n",
              "      <td>OLIVEIRA TRUST DTVM S.A.</td>\n",
              "      <td>10728022004.30</td>\n",
              "      <td>67264697.97</td>\n",
              "    </tr>\n",
              "    <tr>\n",
              "      <th>37</th>\n",
              "      <td>PLANNER CORRETORA DE VALORES SA</td>\n",
              "      <td>1146449531.87</td>\n",
              "      <td>7188238.56</td>\n",
              "    </tr>\n",
              "    <tr>\n",
              "      <th>38</th>\n",
              "      <td>PLANNER TRUSTEE DISTRIBUIDORA DE TITULOS E VAL...</td>\n",
              "      <td>1783190572.96</td>\n",
              "      <td>11180604.89</td>\n",
              "    </tr>\n",
              "    <tr>\n",
              "      <th>39</th>\n",
              "      <td>PLURAL S.A. BANCO MULTIPLO</td>\n",
              "      <td>6323482447.62</td>\n",
              "      <td>39648234.95</td>\n",
              "    </tr>\n",
              "    <tr>\n",
              "      <th>40</th>\n",
              "      <td>REAG DISTRIBUIDORA DE TÍTULOS E VALORES MOBILI...</td>\n",
              "      <td>1161897624.13</td>\n",
              "      <td>7285098.10</td>\n",
              "    </tr>\n",
              "    <tr>\n",
              "      <th>41</th>\n",
              "      <td>RIO BRAVO INVESTIMENTOS - DISTRIBUIDORA DE TIT...</td>\n",
              "      <td>8406026666.31</td>\n",
              "      <td>52705787.20</td>\n",
              "    </tr>\n",
              "    <tr>\n",
              "      <th>42</th>\n",
              "      <td>RJI CORRETORA DE TÍTULOS E VALORES MOBILIÁRIOS...</td>\n",
              "      <td>196183344.34</td>\n",
              "      <td>1230069.57</td>\n",
              "    </tr>\n",
              "    <tr>\n",
              "      <th>43</th>\n",
              "      <td>SANTANDER CACEIS BRASIL DISTRIBUIDORA DE TITUL...</td>\n",
              "      <td>3041699250.96</td>\n",
              "      <td>19071454.30</td>\n",
              "    </tr>\n",
              "    <tr>\n",
              "      <th>44</th>\n",
              "      <td>SINGULARE CORRETORA DE TITULOS E VALORES MOBIL...</td>\n",
              "      <td>994477639.87</td>\n",
              "      <td>6235374.80</td>\n",
              "    </tr>\n",
              "    <tr>\n",
              "      <th>45</th>\n",
              "      <td>SLW CVC LTDA</td>\n",
              "      <td>87874882.33</td>\n",
              "      <td>550975.51</td>\n",
              "    </tr>\n",
              "    <tr>\n",
              "      <th>46</th>\n",
              "      <td>SOLIDUS SA CCVM</td>\n",
              "      <td>89730720.94</td>\n",
              "      <td>562611.62</td>\n",
              "    </tr>\n",
              "    <tr>\n",
              "      <th>47</th>\n",
              "      <td>TERRA INVESTIMENTOS DISTRIBUIDORA DE TITULOS E...</td>\n",
              "      <td>310415313.54</td>\n",
              "      <td>1946304.02</td>\n",
              "    </tr>\n",
              "    <tr>\n",
              "      <th>48</th>\n",
              "      <td>VORTX DISTRIBUIDORA DE TITULOS E VALORES MOBIL...</td>\n",
              "      <td>10861521792.48</td>\n",
              "      <td>68101741.64</td>\n",
              "    </tr>\n",
              "    <tr>\n",
              "      <th>49</th>\n",
              "      <td>VOTORANTIM ASSET MANAGEMENT DTVM LTDA.</td>\n",
              "      <td>8063962935.62</td>\n",
              "      <td>50561047.61</td>\n",
              "    </tr>\n",
              "    <tr>\n",
              "      <th>50</th>\n",
              "      <td>WARREN CORRETORA DE VALORES MOBILIÁRIOS E CÂMB...</td>\n",
              "      <td>1521778.95</td>\n",
              "      <td>9541.55</td>\n",
              "    </tr>\n",
              "    <tr>\n",
              "      <th>51</th>\n",
              "      <td>XP INVESTIMENTOS CCTVM S.A.</td>\n",
              "      <td>427928241.92</td>\n",
              "      <td>2683110.08</td>\n",
              "    </tr>\n",
              "    <tr>\n",
              "      <th>52</th>\n",
              "      <td>ÍNDIGO INVESTIMENTOS DISTRIBUIDORA DE TÍTULOS ...</td>\n",
              "      <td>2034840945.93</td>\n",
              "      <td>12758452.73</td>\n",
              "    </tr>\n",
              "  </tbody>\n",
              "</table>\n",
              "</div>"
            ],
            "text/plain": [
              "                                                ADMIN  ...  Trib_Potencial\n",
              "0                        BANCO BNP PARIBAS BRASIL S/A  ...       933032.04\n",
              "1                                 BANCO BRADESCO S.A.  ...      2740321.93\n",
              "2                                 BANCO DAYCOVAL S.A.  ...       397900.31\n",
              "3                                     BANCO FATOR S/A  ...      6494543.40\n",
              "4                                  BANCO FINAXIS S.A.  ...       158753.44\n",
              "5                                 BANCO J. SAFRA S.A.  ...     14818051.65\n",
              "6                                    BANCO MODAL S.A.  ...       904965.35\n",
              "7                                BANCO OURINVEST S.A.  ...     22099429.08\n",
              "8   BANCOOB DISTRIBUIDORA DE TÍTULOS E VALORES MOB...  ...       204078.61\n",
              "9                      BB GESTAO DE RECURSOS DTVM S.A  ...      2856115.23\n",
              "10               BCV - BANCO DE CRÉDITO E VAREJO S.A.  ...         7447.51\n",
              "11  BEM - DISTRIBUIDORA DE TITULOS E VALORES MOBIL...  ...      6561413.83\n",
              "12          BNY MELLON SERVICOS FINANCEIROS DTVM S.A.  ...     15626773.74\n",
              "13                               BR-CAPITAL DTVM S.A.  ...      8231912.12\n",
              "14                                        BRB DTVM SA  ...       493920.59\n",
              "15  BRKB DISTRIBUIDORA DE TITULOS E VALORES MOBILI...  ...       -28364.33\n",
              "16  BRL TRUST DISTRIBUIDORA DE TITULOS E VALORES M...  ...    146601402.83\n",
              "17          BTG PACTUAL SERVIÇOS FINANCEIROS S/A DTVM  ...    250303721.17\n",
              "18                            CAIXA ECONOMICA FEDERAL  ...     12656465.76\n",
              "19                       CM CAPITAL MARKETS DTVM LTDA  ...      6693543.65\n",
              "20                              COINVALORES CCVM LTDA  ...      9314827.89\n",
              "21           CORRETORA GERAL DE VALORES E CAMBIO LTDA  ...      3921725.87\n",
              "22  CREDIT SUISSE HEDGING-GRIFFO CORRETORA DE VALO...  ...     56813950.67\n",
              "23                                    ELITE CCVM LTDA  ...       959167.04\n",
              "24  FINAXIS CORRETORA DE TÍTULOS E VALORES MOBILIÁ...  ...      2165156.02\n",
              "25  FRAM CAPITAL DISTRIBUIDORA DE TITULOS E VALORE...  ...      8575302.37\n",
              "26  GENIAL INVESTIMENTOS CORRETORA DE VALORES MOBI...  ...     21129334.93\n",
              "27  HEDGE INVESTMENTS DISTRIBUIDORA DE TÍTULOS E V...  ...     44798862.09\n",
              "28  INTER DISTRIBUIDORA DE TÍTULOS E VALORES MOBIL...  ...      7278125.40\n",
              "29                                 INTRADER DTVM LTDA  ...       514271.93\n",
              "30                                  INTRAG DTVM LTDA.  ...     92837826.60\n",
              "31  LIMINE TRUST DISTRIBUIDORA DE TITULOS E VALORE...  ...       339937.61\n",
              "32             MERCANTIL DO BRASIL CORRETORA S/A CTVM  ...       571040.49\n",
              "33                               MODAL  D.T.V.M. LTDA  ...     19367251.60\n",
              "34                                  MOMENTO DTVM LTDA  ...       898982.91\n",
              "35  MONETAR DISTRIBUIDORA DE TITULOS E VALORES MOB...  ...       688202.12\n",
              "36                           OLIVEIRA TRUST DTVM S.A.  ...     67264697.97\n",
              "37                    PLANNER CORRETORA DE VALORES SA  ...      7188238.56\n",
              "38  PLANNER TRUSTEE DISTRIBUIDORA DE TITULOS E VAL...  ...     11180604.89\n",
              "39                         PLURAL S.A. BANCO MULTIPLO  ...     39648234.95\n",
              "40  REAG DISTRIBUIDORA DE TÍTULOS E VALORES MOBILI...  ...      7285098.10\n",
              "41  RIO BRAVO INVESTIMENTOS - DISTRIBUIDORA DE TIT...  ...     52705787.20\n",
              "42  RJI CORRETORA DE TÍTULOS E VALORES MOBILIÁRIOS...  ...      1230069.57\n",
              "43  SANTANDER CACEIS BRASIL DISTRIBUIDORA DE TITUL...  ...     19071454.30\n",
              "44  SINGULARE CORRETORA DE TITULOS E VALORES MOBIL...  ...      6235374.80\n",
              "45                                       SLW CVC LTDA  ...       550975.51\n",
              "46                                    SOLIDUS SA CCVM  ...       562611.62\n",
              "47  TERRA INVESTIMENTOS DISTRIBUIDORA DE TITULOS E...  ...      1946304.02\n",
              "48  VORTX DISTRIBUIDORA DE TITULOS E VALORES MOBIL...  ...     68101741.64\n",
              "49             VOTORANTIM ASSET MANAGEMENT DTVM LTDA.  ...     50561047.61\n",
              "50  WARREN CORRETORA DE VALORES MOBILIÁRIOS E CÂMB...  ...         9541.55\n",
              "51                        XP INVESTIMENTOS CCTVM S.A.  ...      2683110.08\n",
              "52  ÍNDIGO INVESTIMENTOS DISTRIBUIDORA DE TÍTULOS ...  ...     12758452.73\n",
              "\n",
              "[53 rows x 3 columns]"
            ]
          },
          "metadata": {
            "tags": []
          },
          "execution_count": 66
        }
      ]
    },
    {
      "cell_type": "markdown",
      "metadata": {
        "id": "3mB4rV3v8VCo"
      },
      "source": [
        "##### O número de Administradoras é 53"
      ]
    },
    {
      "cell_type": "code",
      "metadata": {
        "id": "JxJRIOzTN5io",
        "colab": {
          "base_uri": "https://localhost:8080/"
        },
        "outputId": "c7dfe0c4-47b5-4733-fdfb-66850c89b414"
      },
      "source": [
        "counted = df_ADM_total.count()\n",
        "print(f'Numero de Administradoras: {counted}')"
      ],
      "execution_count": 52,
      "outputs": [
        {
          "output_type": "stream",
          "text": [
            "Numero de Administradoras: ADMIN             53\n",
            "VL_PATRIM_LIQ     53\n",
            "Trib_Potencial    53\n",
            "dtype: int64\n"
          ],
          "name": "stdout"
        }
      ]
    },
    {
      "cell_type": "markdown",
      "metadata": {
        "id": "G0924xyY8eS1"
      },
      "source": [
        "##### A seguir mais alguns valores estatísticos extraídos do Dataset df_ADM_total:"
      ]
    },
    {
      "cell_type": "code",
      "metadata": {
        "colab": {
          "base_uri": "https://localhost:8080/"
        },
        "id": "z6KL3rne5uxy",
        "outputId": "8e89ac1e-1b7b-4380-c9e8-a8b4de376ae6"
      },
      "source": [
        "media = df_ADM_total.mean()\n",
        "print(f'Média: {media}')"
      ],
      "execution_count": 54,
      "outputs": [
        {
          "output_type": "stream",
          "text": [
            "Média: VL_PATRIM_LIQ    3364065898.01\n",
            "Trib_Potencial     21092693.18\n",
            "dtype: float64\n"
          ],
          "name": "stdout"
        }
      ]
    },
    {
      "cell_type": "code",
      "metadata": {
        "colab": {
          "base_uri": "https://localhost:8080/"
        },
        "id": "f_8BEdLI6F7y",
        "outputId": "e3e2a27a-4869-492c-d5ba-d12806a74ca0"
      },
      "source": [
        "mediana = df_ADM_total.median()\n",
        "print(f'Mediana: {mediana}')"
      ],
      "execution_count": 55,
      "outputs": [
        {
          "output_type": "stream",
          "text": [
            "Mediana: VL_PATRIM_LIQ    1046477485.62\n",
            "Trib_Potencial      6561413.83\n",
            "dtype: float64\n"
          ],
          "name": "stdout"
        }
      ]
    },
    {
      "cell_type": "markdown",
      "metadata": {
        "id": "QQ05nlaQlMnw"
      },
      "source": [
        "##### Chegou-se ao valor de PL total dos FIIs de **178.295.492.594**, e de tributação potencial de **1.117.912.738** ao ano."
      ]
    },
    {
      "cell_type": "code",
      "metadata": {
        "colab": {
          "base_uri": "https://localhost:8080/"
        },
        "id": "MHXHsnVc6Omx",
        "outputId": "dc300f7f-17ab-40f5-dc68-c99dc5560ff8"
      },
      "source": [
        "soma = df_ADM_total.sum()\n",
        "print(f'Total: {soma}')"
      ],
      "execution_count": 56,
      "outputs": [
        {
          "output_type": "stream",
          "text": [
            "Total: ADMIN             BANCO BNP PARIBAS BRASIL S/ABANCO BRADESCO S.A...\n",
            "VL_PATRIM_LIQ                                       178295492594.65\n",
            "Trib_Potencial                                        1117912738.57\n",
            "dtype: object\n"
          ],
          "name": "stdout"
        }
      ]
    },
    {
      "cell_type": "code",
      "metadata": {
        "colab": {
          "base_uri": "https://localhost:8080/",
          "height": 175
        },
        "id": "itU8ZTfJF7pl",
        "outputId": "799d17b2-6c55-4432-f858-d34db62eb82a"
      },
      "source": [
        "# df_ADM_total.info()\n",
        "quartis_ADM = df_ADM_total.quantile([.25, .5, .75, .9])\n",
        "quartis_ADM"
      ],
      "execution_count": 57,
      "outputs": [
        {
          "output_type": "execute_result",
          "data": {
            "text/html": [
              "<div>\n",
              "<style scoped>\n",
              "    .dataframe tbody tr th:only-of-type {\n",
              "        vertical-align: middle;\n",
              "    }\n",
              "\n",
              "    .dataframe tbody tr th {\n",
              "        vertical-align: top;\n",
              "    }\n",
              "\n",
              "    .dataframe thead th {\n",
              "        text-align: right;\n",
              "    }\n",
              "</style>\n",
              "<table border=\"1\" class=\"dataframe\">\n",
              "  <thead>\n",
              "    <tr style=\"text-align: right;\">\n",
              "      <th></th>\n",
              "      <th>VL_PATRIM_LIQ</th>\n",
              "      <th>Trib_Potencial</th>\n",
              "    </tr>\n",
              "  </thead>\n",
              "  <tbody>\n",
              "    <tr>\n",
              "      <th>0.25</th>\n",
              "      <td>143378454.01</td>\n",
              "      <td>898982.91</td>\n",
              "    </tr>\n",
              "    <tr>\n",
              "      <th>0.50</th>\n",
              "      <td>1046477485.62</td>\n",
              "      <td>6561413.83</td>\n",
              "    </tr>\n",
              "    <tr>\n",
              "      <th>0.75</th>\n",
              "      <td>3041699250.96</td>\n",
              "      <td>19071454.30</td>\n",
              "    </tr>\n",
              "    <tr>\n",
              "      <th>0.90</th>\n",
              "      <td>8930194253.85</td>\n",
              "      <td>55992317.97</td>\n",
              "    </tr>\n",
              "  </tbody>\n",
              "</table>\n",
              "</div>"
            ],
            "text/plain": [
              "      VL_PATRIM_LIQ  Trib_Potencial\n",
              "0.25   143378454.01       898982.91\n",
              "0.50  1046477485.62      6561413.83\n",
              "0.75  3041699250.96     19071454.30\n",
              "0.90  8930194253.85     55992317.97"
            ]
          },
          "metadata": {
            "tags": []
          },
          "execution_count": 57
        }
      ]
    },
    {
      "cell_type": "markdown",
      "metadata": {
        "id": "ZHKc5t__8Lcu"
      },
      "source": [
        "##### Assim, haveria um potencial de arrecadação de tributos incidentes sobre a distribuição de resultados de FII da ordem de **R 1,1 Bi** ao ano. Isso considerando um PL total de **R 178 Bi**"
      ]
    },
    {
      "cell_type": "markdown",
      "metadata": {
        "id": "JxtxjJQOskOZ"
      },
      "source": [
        "### Investigação"
      ]
    },
    {
      "cell_type": "code",
      "metadata": {
        "id": "GTIBB7pPkY1t"
      },
      "source": [
        "import matplotlib.pyplot as plt # Biblioteca para plotar gráficos\n",
        "import seaborn as sns # Biblioteca para plotar gráficos baseada no matplotlib\n",
        "import re"
      ],
      "execution_count": 6,
      "outputs": []
    },
    {
      "cell_type": "markdown",
      "metadata": {
        "id": "B3HH_enzePyN"
      },
      "source": [
        "Esse gráfico expressa a tributação potencial esperada, por Administradora"
      ]
    },
    {
      "cell_type": "code",
      "metadata": {
        "colab": {
          "base_uri": "https://localhost:8080/",
          "height": 1000
        },
        "id": "hupdXolJEvN3",
        "outputId": "00ed9236-6ac4-4f8d-9fe3-d59309933b6d"
      },
      "source": [
        "# df_ADM_total.options.display.float_format = '{:.2f}'.format\n",
        "sorted = df_ADM_total.sort_values(by='Trib_Potencial', axis=0, ascending=False)\n",
        "plot = sns.catplot(y=\"ADMIN\", x=\"Trib_Potencial\", kind=\"bar\", data=sorted, aspect=1, height=18, orient='h', legend=True)\n",
        "plot.set(xlabel='X 100 Milhões de R$', ylabel='')\n",
        "plot = plt.title(\"Tributação potencial por Administradora de FII\", fontsize=20)"
      ],
      "execution_count": 58,
      "outputs": [
        {
          "output_type": "display_data",
          "data": {
            "image/png": "[encoded data removed]",
            "text/plain": [
              "<Figure size 1296x1296 with 1 Axes>"
            ]
          },
          "metadata": {
            "tags": [],
            "needs_background": "light"
          }
        }
      ]
    },
    {
      "cell_type": "markdown",
      "metadata": {
        "id": "X8cdv70AfShV"
      },
      "source": [
        "##### Já o boxplot a seguir demonstra que a maior parte dos valores (75%) se concentra abaixo dos **R$ 30 milhões**. "
      ]
    },
    {
      "cell_type": "code",
      "metadata": {
        "nbgrader": {
          "grade": true,
          "grade_id": "cell-4727d55417ba9b09",
          "locked": false,
          "points": 1,
          "schema_version": 3,
          "solution": true,
          "task": false
        },
        "id": "Spqm319xskOg",
        "colab": {
          "base_uri": "https://localhost:8080/",
          "height": 296
        },
        "outputId": "02f33b47-c088-4909-a573-e5beda8e5b40"
      },
      "source": [
        "box = sns.boxplot(x='Trib_Potencial', data=quartis_ADM, palette='rainbow', width=0.6)\n",
        "box.set(xlabel='X 10 Milhões de R$', ylabel='')"
      ],
      "execution_count": 61,
      "outputs": [
        {
          "output_type": "execute_result",
          "data": {
            "text/plain": [
              "[Text(0, 0.5, ''), Text(0.5, 0, 'X 10 Milhões de R$')]"
            ]
          },
          "metadata": {
            "tags": []
          },
          "execution_count": 61
        },
        {
          "output_type": "display_data",
          "data": {
            "image/png": "[encoded data removed]",
            "text/plain": [
              "<Figure size 432x288 with 1 Axes>"
            ]
          },
          "metadata": {
            "tags": [],
            "needs_background": "light"
          }
        }
      ]
    },
    {
      "cell_type": "markdown",
      "metadata": {
        "id": "VStkNM_VskSL"
      },
      "source": [
        "### Conclusões e Achados"
      ]
    },
    {
      "cell_type": "markdown",
      "metadata": {
        "id": "IrJZ9nHxKIWD"
      },
      "source": [
        "##### Do conjunto de dados levantado, verificou-se que existem atualmente **562** FIIs Ativos e **53** Administradoras. Essas administram um Patrimônio total de 178.295.492.594 (**178 Bilhões** de reais).\n",
        "##### Pelos cálculos efetuados, a partir das premissas expostas na reportagem que conduziu esta análise, verificou-se que há uma tributação potencial de **R$ 1,1 Bilhão** anualmente.\n",
        "##### Importante lembrar as limitações deste estudo, ao não considerar mais variáveis pois elas não se encontram disponíveis, podendo afetar essas estimativas. São elas:\n",
        "\n",
        "*   A crise da covid-19, que afetou negativamente os resultados de parte do setor no ano de 2020; Embora esse fenômeno possa ter sido mitigado pela diversificação do setor (shoppings e lages corporativas caíram mas galpões logísticos subiram muito), é fato que o índice IFIX caiu em relação a 2019. Na prática, PL não significaria automaticamente rendimentos, o que comprometeria a metodologia de cálculo utilizada.\n",
        "*   Há diferentes tipos de FIIs, que remuneram de formas diferentes seus cotistas. Em geral os FIIs são voltados para a renda, distribuindo mensalmente seus proventos. Porém, há FIIs de desenvolvimento, que se prestam à construção de empreendimentos e posterior venda ou locação. Durante o período da construção não há renda a ser distribuída, o que pode afetar os cálculos se considerarmos apenas o período de 1 ano. Não temos a informação sobre qual seria a proporção de FIIs de desenvolvimento, embora o mercado seja predominantemente de FIIs de renda.\n",
        "*   A indisponibilidade das informações de efetivo recolhimento dos tributos, tanto globalmente pelo setor, quanto por Administradora. Essas informações, como se sabe, estão protegidas pelo sigilo fiscal. Isso nos impede de avaliar exatamente o tamanho do *gap*, e se ele existe de fato.\n",
        "\n",
        "##### Dessa forma, dadas as limitações impostas ao estudo, podemos concluir apenas que os números informados na reportagem (**550 milhões** sonegados) estão coerentes com a arrecadação potencial do setor de Fundos imobiliários (**1,1 bilhão**), representando um *gap* de 50%.\n"
      ]
    }
  ]
}